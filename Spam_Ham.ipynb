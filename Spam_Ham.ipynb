{
 "cells": [
  {
   "cell_type": "code",
   "execution_count": 53,
   "id": "efd29f6e",
   "metadata": {},
   "outputs": [],
   "source": [
    "import numpy as np\n",
    "import pandas as pd\n",
    "from sklearn.model_selection import train_test_split\n",
    "from sklearn.feature_extraction.text import TfidfVectorizer\n",
    "from sklearn.linear_model import LogisticRegression\n",
    "from sklearn.metrics import accuracy_score"
   ]
  },
  {
   "cell_type": "code",
   "execution_count": 54,
   "id": "cef05027",
   "metadata": {},
   "outputs": [],
   "source": [
    "raw_mail_data = pd.read_csv('spam.csv')"
   ]
  },
  {
   "cell_type": "code",
   "execution_count": 55,
   "id": "a2acd104",
   "metadata": {},
   "outputs": [
    {
     "name": "stdout",
     "output_type": "stream",
     "text": [
      "        v1                                                 v2 Unnamed: 2  \\\n",
      "0      ham  Go until jurong point, crazy.. Available only ...        NaN   \n",
      "1      ham                      Ok lar... Joking wif u oni...        NaN   \n",
      "2     spam  Free entry in 2 a wkly comp to win FA Cup fina...        NaN   \n",
      "3      ham  U dun say so early hor... U c already then say...        NaN   \n",
      "4      ham  Nah I don't think he goes to usf, he lives aro...        NaN   \n",
      "...    ...                                                ...        ...   \n",
      "5567  spam  This is the 2nd time we have tried 2 contact u...        NaN   \n",
      "5568   ham              Will �_ b going to esplanade fr home?        NaN   \n",
      "5569   ham  Pity, * was in mood for that. So...any other s...        NaN   \n",
      "5570   ham  The guy did some bitching but I acted like i'd...        NaN   \n",
      "5571   ham                         Rofl. Its true to its name        NaN   \n",
      "\n",
      "     Unnamed: 3 Unnamed: 4  \n",
      "0           NaN        NaN  \n",
      "1           NaN        NaN  \n",
      "2           NaN        NaN  \n",
      "3           NaN        NaN  \n",
      "4           NaN        NaN  \n",
      "...         ...        ...  \n",
      "5567        NaN        NaN  \n",
      "5568        NaN        NaN  \n",
      "5569        NaN        NaN  \n",
      "5570        NaN        NaN  \n",
      "5571        NaN        NaN  \n",
      "\n",
      "[5572 rows x 5 columns]\n"
     ]
    }
   ],
   "source": [
    "print(raw_mail_data)"
   ]
  },
  {
   "cell_type": "code",
   "execution_count": 56,
   "id": "5e841b9e",
   "metadata": {},
   "outputs": [],
   "source": [
    "#Replace the null values with a null string\n",
    "mail_data = raw_mail_data.where((pd.notnull(raw_mail_data)),'')"
   ]
  },
  {
   "cell_type": "code",
   "execution_count": 57,
   "id": "b96dd8a9",
   "metadata": {},
   "outputs": [
    {
     "data": {
      "text/html": [
       "<div>\n",
       "<style scoped>\n",
       "    .dataframe tbody tr th:only-of-type {\n",
       "        vertical-align: middle;\n",
       "    }\n",
       "\n",
       "    .dataframe tbody tr th {\n",
       "        vertical-align: top;\n",
       "    }\n",
       "\n",
       "    .dataframe thead th {\n",
       "        text-align: right;\n",
       "    }\n",
       "</style>\n",
       "<table border=\"1\" class=\"dataframe\">\n",
       "  <thead>\n",
       "    <tr style=\"text-align: right;\">\n",
       "      <th></th>\n",
       "      <th>v1</th>\n",
       "      <th>v2</th>\n",
       "      <th>Unnamed: 2</th>\n",
       "      <th>Unnamed: 3</th>\n",
       "      <th>Unnamed: 4</th>\n",
       "    </tr>\n",
       "  </thead>\n",
       "  <tbody>\n",
       "    <tr>\n",
       "      <th>0</th>\n",
       "      <td>ham</td>\n",
       "      <td>Go until jurong point, crazy.. Available only ...</td>\n",
       "      <td></td>\n",
       "      <td></td>\n",
       "      <td></td>\n",
       "    </tr>\n",
       "    <tr>\n",
       "      <th>1</th>\n",
       "      <td>ham</td>\n",
       "      <td>Ok lar... Joking wif u oni...</td>\n",
       "      <td></td>\n",
       "      <td></td>\n",
       "      <td></td>\n",
       "    </tr>\n",
       "    <tr>\n",
       "      <th>2</th>\n",
       "      <td>spam</td>\n",
       "      <td>Free entry in 2 a wkly comp to win FA Cup fina...</td>\n",
       "      <td></td>\n",
       "      <td></td>\n",
       "      <td></td>\n",
       "    </tr>\n",
       "    <tr>\n",
       "      <th>3</th>\n",
       "      <td>ham</td>\n",
       "      <td>U dun say so early hor... U c already then say...</td>\n",
       "      <td></td>\n",
       "      <td></td>\n",
       "      <td></td>\n",
       "    </tr>\n",
       "    <tr>\n",
       "      <th>4</th>\n",
       "      <td>ham</td>\n",
       "      <td>Nah I don't think he goes to usf, he lives aro...</td>\n",
       "      <td></td>\n",
       "      <td></td>\n",
       "      <td></td>\n",
       "    </tr>\n",
       "  </tbody>\n",
       "</table>\n",
       "</div>"
      ],
      "text/plain": [
       "     v1                                                 v2 Unnamed: 2  \\\n",
       "0   ham  Go until jurong point, crazy.. Available only ...              \n",
       "1   ham                      Ok lar... Joking wif u oni...              \n",
       "2  spam  Free entry in 2 a wkly comp to win FA Cup fina...              \n",
       "3   ham  U dun say so early hor... U c already then say...              \n",
       "4   ham  Nah I don't think he goes to usf, he lives aro...              \n",
       "\n",
       "  Unnamed: 3 Unnamed: 4  \n",
       "0                        \n",
       "1                        \n",
       "2                        \n",
       "3                        \n",
       "4                        "
      ]
     },
     "execution_count": 57,
     "metadata": {},
     "output_type": "execute_result"
    }
   ],
   "source": [
    "mail_data.head()"
   ]
  },
  {
   "cell_type": "code",
   "execution_count": 58,
   "id": "1e2489a5",
   "metadata": {},
   "outputs": [
    {
     "data": {
      "text/plain": [
       "(5572, 5)"
      ]
     },
     "execution_count": 58,
     "metadata": {},
     "output_type": "execute_result"
    }
   ],
   "source": [
    "#checking the number of rows and columns\n",
    "mail_data.shape"
   ]
  },
  {
   "cell_type": "code",
   "execution_count": 59,
   "id": "dfb20b86",
   "metadata": {},
   "outputs": [
    {
     "data": {
      "text/html": [
       "<div>\n",
       "<style scoped>\n",
       "    .dataframe tbody tr th:only-of-type {\n",
       "        vertical-align: middle;\n",
       "    }\n",
       "\n",
       "    .dataframe tbody tr th {\n",
       "        vertical-align: top;\n",
       "    }\n",
       "\n",
       "    .dataframe thead th {\n",
       "        text-align: right;\n",
       "    }\n",
       "</style>\n",
       "<table border=\"1\" class=\"dataframe\">\n",
       "  <thead>\n",
       "    <tr style=\"text-align: right;\">\n",
       "      <th></th>\n",
       "      <th>Category</th>\n",
       "      <th>Message</th>\n",
       "    </tr>\n",
       "  </thead>\n",
       "  <tbody>\n",
       "    <tr>\n",
       "      <th>0</th>\n",
       "      <td>ham</td>\n",
       "      <td>Go until jurong point, crazy.. Available only ...</td>\n",
       "    </tr>\n",
       "    <tr>\n",
       "      <th>1</th>\n",
       "      <td>ham</td>\n",
       "      <td>Ok lar... Joking wif u oni...</td>\n",
       "    </tr>\n",
       "    <tr>\n",
       "      <th>2</th>\n",
       "      <td>spam</td>\n",
       "      <td>Free entry in 2 a wkly comp to win FA Cup fina...</td>\n",
       "    </tr>\n",
       "    <tr>\n",
       "      <th>3</th>\n",
       "      <td>ham</td>\n",
       "      <td>U dun say so early hor... U c already then say...</td>\n",
       "    </tr>\n",
       "    <tr>\n",
       "      <th>4</th>\n",
       "      <td>ham</td>\n",
       "      <td>Nah I don't think he goes to usf, he lives aro...</td>\n",
       "    </tr>\n",
       "  </tbody>\n",
       "</table>\n",
       "</div>"
      ],
      "text/plain": [
       "  Category                                            Message\n",
       "0      ham  Go until jurong point, crazy.. Available only ...\n",
       "1      ham                      Ok lar... Joking wif u oni...\n",
       "2     spam  Free entry in 2 a wkly comp to win FA Cup fina...\n",
       "3      ham  U dun say so early hor... U c already then say...\n",
       "4      ham  Nah I don't think he goes to usf, he lives aro..."
      ]
     },
     "execution_count": 59,
     "metadata": {},
     "output_type": "execute_result"
    }
   ],
   "source": [
    "#removing unwanted columns with null strings\n",
    "mail_data = mail_data.drop([\"Unnamed: 2\", \"Unnamed: 3\", \"Unnamed: 4\"], axis = 1)\n",
    "mail_data = mail_data.rename(columns={\"v2\" : \"Message\", \"v1\":\"Category\"})\n",
    "mail_data.head()"
   ]
  },
  {
   "cell_type": "code",
   "execution_count": 60,
   "id": "1869cd32",
   "metadata": {},
   "outputs": [
    {
     "data": {
      "text/plain": [
       "(5572, 2)"
      ]
     },
     "execution_count": 60,
     "metadata": {},
     "output_type": "execute_result"
    }
   ],
   "source": [
    "mail_data.shape"
   ]
  },
  {
   "cell_type": "code",
   "execution_count": 61,
   "id": "2069e0ac",
   "metadata": {},
   "outputs": [],
   "source": [
    "#Label Encoding\n",
    "mail_data.loc[mail_data['Category']=='spam', 'Category',] = 0\n",
    "mail_data.loc[mail_data['Category']=='ham', 'Category',] = 1"
   ]
  },
  {
   "cell_type": "code",
   "execution_count": 62,
   "id": "5e8b778b",
   "metadata": {},
   "outputs": [],
   "source": [
    "#Separting the data as texts and labels\n",
    "\n",
    "X = mail_data['Message']\n",
    "Y = mail_data['Category']\n"
   ]
  },
  {
   "cell_type": "code",
   "execution_count": 63,
   "id": "9b583cf8",
   "metadata": {},
   "outputs": [
    {
     "name": "stdout",
     "output_type": "stream",
     "text": [
      "0       Go until jurong point, crazy.. Available only ...\n",
      "1                           Ok lar... Joking wif u oni...\n",
      "2       Free entry in 2 a wkly comp to win FA Cup fina...\n",
      "3       U dun say so early hor... U c already then say...\n",
      "4       Nah I don't think he goes to usf, he lives aro...\n",
      "                              ...                        \n",
      "5567    This is the 2nd time we have tried 2 contact u...\n",
      "5568                Will �_ b going to esplanade fr home?\n",
      "5569    Pity, * was in mood for that. So...any other s...\n",
      "5570    The guy did some bitching but I acted like i'd...\n",
      "5571                           Rofl. Its true to its name\n",
      "Name: Message, Length: 5572, dtype: object\n"
     ]
    }
   ],
   "source": [
    "print(X)"
   ]
  },
  {
   "cell_type": "code",
   "execution_count": 64,
   "id": "8a6685b4",
   "metadata": {},
   "outputs": [
    {
     "name": "stdout",
     "output_type": "stream",
     "text": [
      "0       1\n",
      "1       1\n",
      "2       0\n",
      "3       1\n",
      "4       1\n",
      "       ..\n",
      "5567    0\n",
      "5568    1\n",
      "5569    1\n",
      "5570    1\n",
      "5571    1\n",
      "Name: Category, Length: 5572, dtype: object\n"
     ]
    }
   ],
   "source": [
    "print(Y)"
   ]
  },
  {
   "cell_type": "code",
   "execution_count": 65,
   "id": "0481a0c7",
   "metadata": {},
   "outputs": [],
   "source": [
    "#Spliting the data into test and training data\n",
    "X_train, X_test, Y_train, Y_test = train_test_split(X, Y, test_size = 0.2, random_state = 10)"
   ]
  },
  {
   "cell_type": "code",
   "execution_count": 66,
   "id": "d214c2b9",
   "metadata": {},
   "outputs": [
    {
     "name": "stdout",
     "output_type": "stream",
     "text": [
      "(5572,)\n",
      "(4457,)\n",
      "(1115,)\n"
     ]
    }
   ],
   "source": [
    "print(X.shape)\n",
    "print(X_train.shape)\n",
    "print(X_test.shape)"
   ]
  },
  {
   "cell_type": "code",
   "execution_count": 67,
   "id": "f9d77f92",
   "metadata": {},
   "outputs": [],
   "source": [
    "feature_extraction = TfidfVectorizer(min_df=1, stop_words='english', lowercase='True')\n",
    "\n",
    "X_train_features = feature_extraction.fit_transform(X_train)\n",
    "X_test_features = feature_extraction.transform (X_test)\n",
    "\n",
    "Y_train = Y_train.astype('int')\n",
    "Y_test = Y_test.astype('int')"
   ]
  },
  {
   "cell_type": "code",
   "execution_count": 68,
   "id": "14501825",
   "metadata": {},
   "outputs": [
    {
     "name": "stdout",
     "output_type": "stream",
     "text": [
      "5281               And how you will do that, princess? :)\n",
      "1300    Those cocksuckers. If it makes you feel better...\n",
      "5128    Wot about on wed nite I am 3 then but only til 9!\n",
      "1808    Aiyo a bit pai seh �_ noe... Scared he dun rem...\n",
      "856                         Going to take your babe out ?\n",
      "                              ...                        \n",
      "1180                           I'm in chennai velachery:)\n",
      "3441    Save money on wedding lingerie at www.bridal.p...\n",
      "1344                     Were somewhere on Fredericksburg\n",
      "4623    Jus finish blowing my hair. U finish dinner al...\n",
      "1289    Hey...Great deal...Farm tour 9am to 5pm $95/pa...\n",
      "Name: Message, Length: 4457, dtype: object\n"
     ]
    }
   ],
   "source": [
    "print(X_train)"
   ]
  },
  {
   "cell_type": "code",
   "execution_count": 69,
   "id": "8907b809",
   "metadata": {},
   "outputs": [
    {
     "name": "stdout",
     "output_type": "stream",
     "text": [
      "  (0, 5224)\t1.0\n",
      "  (1, 7129)\t0.2950486239663227\n",
      "  (1, 1149)\t0.22213445141899318\n",
      "  (1, 3622)\t0.3056372583510937\n",
      "  (1, 4666)\t0.3205611003164585\n",
      "  (1, 2970)\t0.3056372583510937\n",
      "  (1, 7326)\t0.3205611003164585\n",
      "  (1, 3599)\t0.3205611003164585\n",
      "  (1, 1273)\t0.2162798012470006\n",
      "  (1, 2715)\t0.40416965820279876\n",
      "  (1, 4176)\t0.2358104883587932\n",
      "  (1, 1818)\t0.3205611003164585\n",
      "  (2, 6664)\t0.4654202581212151\n",
      "  (2, 4622)\t0.4836244486792649\n",
      "  (2, 7175)\t0.5652136576518605\n",
      "  (2, 7327)\t0.4796091087269546\n",
      "  (3, 3927)\t0.23023489712530823\n",
      "  (3, 4797)\t0.2523959342110261\n",
      "  (3, 4052)\t0.2869424016674529\n",
      "  (3, 3275)\t0.26768298959062703\n",
      "  (3, 2240)\t0.26080900788451006\n",
      "  (3, 5490)\t0.2869424016674529\n",
      "  (3, 2418)\t0.2093359868497037\n",
      "  (3, 5732)\t0.2869424016674529\n",
      "  (3, 4629)\t0.2476769686093981\n",
      "  :\t:\n",
      "  (4453, 1469)\t0.26998715149094793\n",
      "  (4453, 4541)\t0.22195932904459306\n",
      "  (4453, 2178)\t0.22969008173546485\n",
      "  (4453, 1744)\t0.2319260027065648\n",
      "  (4453, 6880)\t0.1856752236534643\n",
      "  (4453, 4412)\t0.19386485392218164\n",
      "  (4453, 7358)\t0.173501131490642\n",
      "  (4454, 2884)\t1.0\n",
      "  (4455, 1341)\t0.4771824960005484\n",
      "  (4455, 2265)\t0.33458127982194924\n",
      "  (4455, 3734)\t0.33458127982194924\n",
      "  (4455, 2767)\t0.6505450429955705\n",
      "  (4455, 3193)\t0.35383434956203885\n",
      "  (4456, 2193)\t0.3424045146785146\n",
      "  (4456, 4924)\t0.3424045146785146\n",
      "  (4456, 712)\t0.3424045146785146\n",
      "  (4456, 6761)\t0.29921281757447893\n",
      "  (4456, 2690)\t0.3264637443846612\n",
      "  (4456, 553)\t0.3264637443846612\n",
      "  (4456, 719)\t0.3063807489164154\n",
      "  (4456, 2126)\t0.2832720472806255\n",
      "  (4456, 3132)\t0.1936299432138347\n",
      "  (4456, 313)\t0.22562333246010677\n",
      "  (4456, 3299)\t0.19274642789816177\n",
      "  (4456, 525)\t0.21431317594377794\n"
     ]
    }
   ],
   "source": [
    "print(X_train_features)"
   ]
  },
  {
   "cell_type": "code",
   "execution_count": 70,
   "id": "a17f20eb",
   "metadata": {},
   "outputs": [
    {
     "data": {
      "text/plain": [
       "LogisticRegression()"
      ]
     },
     "execution_count": 70,
     "metadata": {},
     "output_type": "execute_result"
    }
   ],
   "source": [
    "#Training the model\n",
    "model = LogisticRegression()\n",
    "\n",
    "model.fit(X_train_features, Y_train)"
   ]
  },
  {
   "cell_type": "code",
   "execution_count": 71,
   "id": "07c6b45d",
   "metadata": {},
   "outputs": [
    {
     "name": "stdout",
     "output_type": "stream",
     "text": [
      "Accuracy on training data: 97.06080323087278 %\n"
     ]
    }
   ],
   "source": [
    "#Evaluating the training data\n",
    "prediction_on_training_data = model.predict(X_train_features)\n",
    "accuracy_on_training_data = accuracy_score(Y_train, prediction_on_training_data)\n",
    "\n",
    "print('Accuracy on training data:', accuracy_on_training_data*100,'%')"
   ]
  },
  {
   "cell_type": "code",
   "execution_count": 72,
   "id": "3a1a08f9",
   "metadata": {},
   "outputs": [
    {
     "name": "stdout",
     "output_type": "stream",
     "text": [
      "Accuracy on test data: 96.23318385650225 %\n"
     ]
    }
   ],
   "source": [
    "#Prediction on training data\n",
    "\n",
    "prediction_on_testing_data = model.predict(X_test_features)\n",
    "accuracy_on_test_data = accuracy_score(Y_test,prediction_on_testing_data)\n",
    "\n",
    "print('Accuracy on test data:',accuracy_on_test_data*100,'%')"
   ]
  },
  {
   "cell_type": "code",
   "execution_count": 78,
   "id": "0011f423",
   "metadata": {},
   "outputs": [
    {
     "name": "stdout",
     "output_type": "stream",
     "text": [
      "The message ['WINNER!! As a valued network customer you have been selected to receivea å£900 prize reward! To claim call 09061701461. Claim code KL341. Valid 12 hours only.'] is an Spam mail\n"
     ]
    }
   ],
   "source": [
    "#Building a predictive system\n",
    "input_mail = [\"WINNER!! As a valued network customer you have been selected to receivea å£900 prize reward! To claim call 09061701461. Claim code KL341. Valid 12 hours only.\"]\n",
    "\n",
    "#convert text to feature vectors\n",
    "input_data_features = feature_extraction.transform(input_mail)\n",
    "\n",
    "#making prediction\n",
    "prediction = model.predict(input_data_features)\n",
    "\n",
    "if prediction==[1]:\n",
    "    mail = 'Ham mail'\n",
    "else:\n",
    "    mail = 'Spam mail'\n",
    "print('The message',input_mail,'is an',mail)\n",
    "\n"
   ]
  }
 ],
 "metadata": {
  "kernelspec": {
   "display_name": "Python 3",
   "language": "python",
   "name": "python3"
  },
  "language_info": {
   "codemirror_mode": {
    "name": "ipython",
    "version": 3
   },
   "file_extension": ".py",
   "mimetype": "text/x-python",
   "name": "python",
   "nbconvert_exporter": "python",
   "pygments_lexer": "ipython3",
   "version": "3.8.8"
  }
 },
 "nbformat": 4,
 "nbformat_minor": 5
}
